{
 "cells": [
  {
   "cell_type": "markdown",
   "metadata": {
    "id": "nLZfTtM7WoO9"
   },
   "source": [
    "![image.png](attachment:image.png)"
   ]
  },
  {
   "cell_type": "markdown",
   "metadata": {
    "id": "rrv5-EHzWoPB"
   },
   "source": [
    "> ### The Central Bank contacted our technical team and asked it to develop a program suitable for all banks, with the addition of some advantages for certain banks"
   ]
  },
  {
   "cell_type": "markdown",
   "metadata": {
    "id": "tEh_GmOaWoPD"
   },
   "source": [
    "# Task 1 : \n",
    "- #### task 1.1 Make Class(User) with attributes:\n",
    "    - name \n",
    "    - age \n",
    "    - gender \n",
    "    - balance\n",
    "- #### task 1.2 Make method to show previous data "
   ]
  },
  {
   "cell_type": "code",
   "execution_count": 26,
   "metadata": {
    "colab": {
     "base_uri": "https://localhost:8080/"
    },
    "id": "YZZmHFp7WoPD",
    "outputId": "9e47d3ea-b1cd-415b-beeb-9a1ed3248fbc"
   },
   "outputs": [],
   "source": [
    "class User:\n",
    "    def __init__(self, name, age, gender, balance):\n",
    "        self.name = name\n",
    "        self.age = age\n",
    "        self.gender = gender\n",
    "        self.balance = balance\n",
    "    def check_account(self):\n",
    "        for e, i in self.__dict__.items():\n",
    "              print(f\"{e}: {i}\")"
   ]
  },
  {
   "cell_type": "markdown",
   "metadata": {
    "id": "ENmzJsuyWoPE"
   },
   "source": [
    "# Task 2 : \n",
    "- Make Child Class(Bank) which inherite from Class(user) with Mehods:\n",
    "    - #### task 2.1 deposite : which take parameter(amount) and add it to balance and print new balance.  \n",
    "    - #### task 2.2 withdraw : which take parameter(amount) and check if user have enough money. \n",
    "    - #### task 2.3 view balance : to show current balance. \n"
   ]
  },
  {
   "cell_type": "code",
   "execution_count": 25,
   "metadata": {
    "colab": {
     "base_uri": "https://localhost:8080/",
     "height": 217
    },
    "id": "tyKINRdmWoPF",
    "outputId": "317315cc-57bc-4eb4-ea0b-83b356ea0fb6"
   },
   "outputs": [],
   "source": [
    "class Bank(User):\n",
    "    def __init__(self):\n",
    "        User.__init__(self)\n",
    "\n",
    "    def deposite(self, ammount):\n",
    "        User.balance += ammount\n",
    "        print(f\"{User.name} has {User.balance}\")\n",
    "    def withdraw(self, ammount):\n",
    "        if User.balance < ammount:\n",
    "            print(\"You don't have that much money\")\n",
    "        else:\n",
    "            User.balance -= ammount\n",
    "            print(\"withdrawn balance successfully\")\n",
    "    def view_balance(self):\n",
    "        User.check_account()"
   ]
  },
  {
   "cell_type": "markdown",
   "metadata": {
    "id": "aV_J_0GdWoPF"
   },
   "source": [
    "# Task 3 : \n",
    "- #### task 3.1 Make Child Class(CIB) which inherite from Class(Bank) with Mehods:\n",
    "    -   Loan application: which take parameter(amount) and  (Duration) >> max loan is one million\n",
    "- #### task 3.2 Make Child Class(QNB) which inherite from Class(Bank) with Mehods:\n",
    "    -   Loan application: which take parameter(amount) and  (Duration) >> max loan is one 2 million"
   ]
  },
  {
   "cell_type": "code",
   "execution_count": 27,
   "metadata": {
    "id": "ylVtQYNOWoPH"
   },
   "outputs": [],
   "source": [
    "class CIB(Bank):\n",
    "    def __init__(self):\n",
    "        Bank.__init__(self)\n",
    "    def lend(self, ammount, duration):\n",
    "        if ammount > 1000000:\n",
    "            print(\"Loan can't be applied for, maximum ammount is 1 million\")\n",
    "        else:\n",
    "            if ammount < 0:\n",
    "                print(\"You can't take negative loan\")\n",
    "            else:\n",
    "                User.balance += ammount\n",
    "                print(f\"took {ammount} expected to be returned in {duration} years\")"
   ]
  }
 ],
 "metadata": {
  "colab": {
   "provenance": []
  },
  "kernelspec": {
   "display_name": "Python 3 (ipykernel)",
   "language": "python",
   "name": "python3"
  },
  "language_info": {
   "codemirror_mode": {
    "name": "ipython",
    "version": 3
   },
   "file_extension": ".py",
   "mimetype": "text/x-python",
   "name": "python",
   "nbconvert_exporter": "python",
   "pygments_lexer": "ipython3",
   "version": "3.9.12"
  }
 },
 "nbformat": 4,
 "nbformat_minor": 1
}
